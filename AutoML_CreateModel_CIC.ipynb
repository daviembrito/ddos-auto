{
  "cells": [
    {
      "cell_type": "markdown",
      "source": [
        "### PREPARATION"
      ],
      "metadata": {
        "id": "cBrFNsFq5zeH"
      }
    },
    {
      "cell_type": "code",
      "execution_count": null,
      "metadata": {
        "id": "RCC_8kPMQadf"
      },
      "outputs": [],
      "source": [
        "import pandas as pd\n",
        "import matplotlib.pyplot as plt\n",
        "import seaborn as sns\n",
        "import numpy as np\n",
        "from sklearn.metrics import confusion_matrix\n",
        "from sklearn.metrics import classification_report\n",
        "from tensorflow import keras\n",
        "import matplotlib.pyplot as plt\n",
        "from tensorflow.keras import layers\n",
        "import tensorflow as tf"
      ]
    },
    {
      "cell_type": "code",
      "execution_count": null,
      "metadata": {
        "id": "FF9I6_jmqqeo"
      },
      "outputs": [],
      "source": [
        "!pip install autokeras\n",
        "!pip install tensorflow_addons"
      ]
    },
    {
      "cell_type": "code",
      "execution_count": null,
      "metadata": {
        "id": "TX-RU1Ti7HiE"
      },
      "outputs": [],
      "source": [
        "import autokeras as ak\n",
        "\n",
        "DATA_PATH = \"/data/cicdata.csv\"\n",
        "LABEL_PATH = \"/data/ciclabel.csv\"\n",
        "\n",
        "early_warning = pd.read_csv(DATA_PATH)\n",
        "rotulos = pd.read_csv(LABEL_PATH)\n",
        "\n",
        "init = 99\n",
        "train = 560\n",
        "test = 1484\n",
        "cols = [\"5_kurt_total_ips_origem\", \n",
        "        \"5_skw_total_ips_destino\", \n",
        "        \"5_voefficient_variation_total_pacotes\"]"
      ]
    },
    {
      "cell_type": "code",
      "execution_count": null,
      "metadata": {
        "id": "gul5UeaV-f89"
      },
      "outputs": [],
      "source": [
        "x_train = early_warning[cols][init:train]\n",
        "y_train = rotulos['maior_2'][init:train]\n",
        "\n",
        "x_test = early_warning[cols][train:test]\n",
        "y_test = rotulos['maior_2'][train:test]\n",
        "\n",
        "x_train = x_train.fillna(-1)\n",
        "x_test = x_test.fillna(-1)"
      ]
    },
    {
      "cell_type": "markdown",
      "source": [
        "### CREATE MODEL "
      ],
      "metadata": {
        "id": "OlKhlQgYAgA7"
      }
    },
    {
      "cell_type": "code",
      "execution_count": null,
      "metadata": {
        "id": "ETM2CGnF8FcA"
      },
      "outputs": [],
      "source": [
        "input_layer = ak.TimeseriesInput(lookback=1)\n",
        "lstm_layer = ak.RNNBlock(layer_type=\"lstm\", num_layers=5)(input_layer)\n",
        "dense_layer = ak.DenseBlock()(lstm_layer)\n",
        "output_layer = ak.RegressionHead()(dense_layer)\n",
        "\n",
        "am = ak.AutoModel(inputs=input_layer,\n",
        "                  outputs=output_layer,\n",
        "                  max_trials=300,\n",
        "                  overwrite=False)"
      ]
    },
    {
      "cell_type": "code",
      "execution_count": null,
      "metadata": {
        "id": "sAdP_U_dD60d"
      },
      "outputs": [],
      "source": [
        "history = am.fit(x_train, x_train, validation_split=0.3)"
      ]
    },
    {
      "cell_type": "code",
      "execution_count": null,
      "metadata": {
        "id": "Zji5wQNTD3Je"
      },
      "outputs": [],
      "source": [
        "am_exp = am.export_model()\n",
        "\n",
        "SAVE_PATH = \"\"\n",
        "try:\n",
        "    am_exp.save(f\"{SAVE_PATH}\", save_format=\"tf\")\n",
        "except Exception:\n",
        "    am_exp.save(f\"{SAVE_PATH}.h5\")"
      ]
    }
  ],
  "metadata": {
    "accelerator": "GPU",
    "colab": {
      "provenance": []
    },
    "gpuClass": "premium",
    "kernelspec": {
      "display_name": "Python 3",
      "name": "python3"
    },
    "language_info": {
      "name": "python"
    }
  },
  "nbformat": 4,
  "nbformat_minor": 0
}